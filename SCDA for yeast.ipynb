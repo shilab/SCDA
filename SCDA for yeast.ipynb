{
 "cells": [
  {
   "cell_type": "markdown",
   "metadata": {},
   "source": [
    "<h1>Sparse Convolutional Denoising Autoencoders for Genotype Imputation <span class=\"tocSkip\"></span></h1>"
   ]
  },
  {
   "cell_type": "markdown",
   "metadata": {
    "toc": true
   },
   "source": [
    "<h1>Table of Contents<span class=\"tocSkip\"></span></h1>\n",
    "<div class=\"toc\"><ul class=\"toc-item\"><li><span><a href=\"#Introduction\" data-toc-modified-id=\"Introduction-1\"><span class=\"toc-item-num\">1&nbsp;&nbsp;</span>Introduction</a></span></li><li><span><a href=\"#Dataset\" data-toc-modified-id=\"Dataset-2\"><span class=\"toc-item-num\">2&nbsp;&nbsp;</span>Dataset</a></span><ul class=\"toc-item\"><li><span><a href=\"#Loading-data\" data-toc-modified-id=\"Loading-data-2.1\"><span class=\"toc-item-num\">2.1&nbsp;&nbsp;</span>Loading data</a></span></li><li><span><a href=\"#Sample-visualization\" data-toc-modified-id=\"Sample-visualization-2.2\"><span class=\"toc-item-num\">2.2&nbsp;&nbsp;</span>Sample visualization</a></span></li><li><span><a href=\"#Preprocessing\" data-toc-modified-id=\"Preprocessing-2.3\"><span class=\"toc-item-num\">2.3&nbsp;&nbsp;</span>Preprocessing</a></span></li></ul></li><li><span><a href=\"#Method\" data-toc-modified-id=\"Method-3\"><span class=\"toc-item-num\">3&nbsp;&nbsp;</span>Method</a></span><ul class=\"toc-item\"><li><span><a href=\"#Build-model\" data-toc-modified-id=\"Build-model-3.1\"><span class=\"toc-item-num\">3.1&nbsp;&nbsp;</span>Build model</a></span></li><li><span><a href=\"#Generate-data\" data-toc-modified-id=\"Generate-data-3.2\"><span class=\"toc-item-num\">3.2&nbsp;&nbsp;</span>Generate data</a></span></li><li><span><a href=\"#Training\" data-toc-modified-id=\"Training-3.3\"><span class=\"toc-item-num\">3.3&nbsp;&nbsp;</span>Training</a></span></li><li><span><a href=\"#Plot\" data-toc-modified-id=\"Plot-3.4\"><span class=\"toc-item-num\">3.4&nbsp;&nbsp;</span>Plot</a></span></li></ul></li><li><span><a href=\"#Prediction-on-test-data\" data-toc-modified-id=\"Prediction-on-test-data-4\"><span class=\"toc-item-num\">4&nbsp;&nbsp;</span>Prediction on test data</a></span></li></ul></div>"
   ]
  },
  {
   "cell_type": "markdown",
   "metadata": {},
   "source": [
    "# Introduction\n",
    "\n",
    "Genotype imputation, where missing genotypes can be computationally imputed, is an essential tool in genomic analysis ranging from genome wide associations to phenotype prediction. Traditional genotype imputation methods are typically based on Hidden Markov Models (HMMs) and are usually computationally expensive. Deep learning-based methods have been recently reported to nicely address the missing data problems in various fields. To explore the performance of deep learning for genotype imputation, in this study we propose a deep model called a Sparse Convolutional Denoising Autoencoder (SCDA) to impute missing genotypes. We constructed the SCDA model by using a convolutional layer that can extract various correlation or linkage patterns in the genotype data and applying a sparse weight matrix resulted from the L1 regularization to handle high dimensional data. We comprehensively evaluated the performance of the SCDA model in different scenarios for genotype imputation on the yeast and human genotype data respectively. Our results showed that SCDA has strong robustness and significantly outperforms three popular reference-free imputation methods including row average, k-nearest neighbors and singular-value decomposition. This study thus points to another novel application of deep learning models for missing data imputation in genomic studies. "
   ]
  },
  {
   "cell_type": "code",
   "execution_count": 1,
   "metadata": {},
   "outputs": [
    {
     "name": "stderr",
     "output_type": "stream",
     "text": [
      "/usr/local/lib/python3.6/site-packages/tensorflow/python/framework/dtypes.py:516: FutureWarning: Passing (type, 1) or '1type' as a synonym of type is deprecated; in a future version of numpy, it will be understood as (type, (1,)) / '(1,)type'.\n",
      "  _np_qint8 = np.dtype([(\"qint8\", np.int8, 1)])\n",
      "/usr/local/lib/python3.6/site-packages/tensorflow/python/framework/dtypes.py:517: FutureWarning: Passing (type, 1) or '1type' as a synonym of type is deprecated; in a future version of numpy, it will be understood as (type, (1,)) / '(1,)type'.\n",
      "  _np_quint8 = np.dtype([(\"quint8\", np.uint8, 1)])\n",
      "/usr/local/lib/python3.6/site-packages/tensorflow/python/framework/dtypes.py:518: FutureWarning: Passing (type, 1) or '1type' as a synonym of type is deprecated; in a future version of numpy, it will be understood as (type, (1,)) / '(1,)type'.\n",
      "  _np_qint16 = np.dtype([(\"qint16\", np.int16, 1)])\n",
      "/usr/local/lib/python3.6/site-packages/tensorflow/python/framework/dtypes.py:519: FutureWarning: Passing (type, 1) or '1type' as a synonym of type is deprecated; in a future version of numpy, it will be understood as (type, (1,)) / '(1,)type'.\n",
      "  _np_quint16 = np.dtype([(\"quint16\", np.uint16, 1)])\n",
      "/usr/local/lib/python3.6/site-packages/tensorflow/python/framework/dtypes.py:520: FutureWarning: Passing (type, 1) or '1type' as a synonym of type is deprecated; in a future version of numpy, it will be understood as (type, (1,)) / '(1,)type'.\n",
      "  _np_qint32 = np.dtype([(\"qint32\", np.int32, 1)])\n",
      "/usr/local/lib/python3.6/site-packages/tensorflow/python/framework/dtypes.py:525: FutureWarning: Passing (type, 1) or '1type' as a synonym of type is deprecated; in a future version of numpy, it will be understood as (type, (1,)) / '(1,)type'.\n",
      "  np_resource = np.dtype([(\"resource\", np.ubyte, 1)])\n",
      "/usr/local/lib/python3.6/site-packages/h5py/__init__.py:36: FutureWarning: Conversion of the second argument of issubdtype from `float` to `np.floating` is deprecated. In future, it will be treated as `np.float64 == np.dtype(float).type`.\n",
      "  from ._conv import register_converters as _register_converters\n",
      "/usr/local/lib/python3.6/site-packages/tensorboard/compat/tensorflow_stub/dtypes.py:541: FutureWarning: Passing (type, 1) or '1type' as a synonym of type is deprecated; in a future version of numpy, it will be understood as (type, (1,)) / '(1,)type'.\n",
      "  _np_qint8 = np.dtype([(\"qint8\", np.int8, 1)])\n",
      "/usr/local/lib/python3.6/site-packages/tensorboard/compat/tensorflow_stub/dtypes.py:542: FutureWarning: Passing (type, 1) or '1type' as a synonym of type is deprecated; in a future version of numpy, it will be understood as (type, (1,)) / '(1,)type'.\n",
      "  _np_quint8 = np.dtype([(\"quint8\", np.uint8, 1)])\n",
      "/usr/local/lib/python3.6/site-packages/tensorboard/compat/tensorflow_stub/dtypes.py:543: FutureWarning: Passing (type, 1) or '1type' as a synonym of type is deprecated; in a future version of numpy, it will be understood as (type, (1,)) / '(1,)type'.\n",
      "  _np_qint16 = np.dtype([(\"qint16\", np.int16, 1)])\n",
      "/usr/local/lib/python3.6/site-packages/tensorboard/compat/tensorflow_stub/dtypes.py:544: FutureWarning: Passing (type, 1) or '1type' as a synonym of type is deprecated; in a future version of numpy, it will be understood as (type, (1,)) / '(1,)type'.\n",
      "  _np_quint16 = np.dtype([(\"quint16\", np.uint16, 1)])\n",
      "/usr/local/lib/python3.6/site-packages/tensorboard/compat/tensorflow_stub/dtypes.py:545: FutureWarning: Passing (type, 1) or '1type' as a synonym of type is deprecated; in a future version of numpy, it will be understood as (type, (1,)) / '(1,)type'.\n",
      "  _np_qint32 = np.dtype([(\"qint32\", np.int32, 1)])\n",
      "/usr/local/lib/python3.6/site-packages/tensorboard/compat/tensorflow_stub/dtypes.py:550: FutureWarning: Passing (type, 1) or '1type' as a synonym of type is deprecated; in a future version of numpy, it will be understood as (type, (1,)) / '(1,)type'.\n",
      "  np_resource = np.dtype([(\"resource\", np.ubyte, 1)])\n"
     ]
    }
   ],
   "source": [
    "%matplotlib inline   \n",
    "from matplotlib import pyplot as plt\n",
    "import pylab as pl\n",
    "import matplotlib as mpl\n",
    "import matplotlib.cm as cm\n",
    "from mpl_toolkits.axes_grid1 import make_axes_locatable\n",
    "\n",
    "import numpy as np\n",
    "import pandas as pd\n",
    "from sklearn.model_selection import train_test_split\n",
    "from sklearn import preprocessing\n",
    "\n",
    "from tensorflow import keras\n",
    "from tensorflow.keras.layers import Input, Embedding, Conv1D, Conv2D, MaxPooling1D, MaxPooling2D, UpSampling1D, UpSampling2D, AveragePooling1D\n",
    "from tensorflow.keras.layers import Dropout, BatchNormalization, Activation\n",
    "from tensorflow.keras.models import Model, Sequential\n",
    "from tensorflow.keras.optimizers import RMSprop\n",
    "from tensorflow.keras.regularizers import l1, l1, l1_l2\n",
    "from tensorflow.keras.utils import to_categorical"
   ]
  },
  {
   "cell_type": "code",
   "execution_count": 2,
   "metadata": {},
   "outputs": [],
   "source": [
    "# specify a seed for repeating the exact dataset splits\n",
    "np.random.seed(seed=28213)"
   ]
  },
  {
   "cell_type": "markdown",
   "metadata": {},
   "source": [
    "# Dataset"
   ]
  },
  {
   "cell_type": "markdown",
   "metadata": {},
   "source": [
    "## Loading data"
   ]
  },
  {
   "cell_type": "code",
   "execution_count": 3,
   "metadata": {},
   "outputs": [
    {
     "data": {
      "text/plain": [
       "(4390, 28220)"
      ]
     },
     "execution_count": 3,
     "metadata": {},
     "output_type": "execute_result"
    }
   ],
   "source": [
    "input_name = 'data/genotype_full.txt'\n",
    "df_ori = pd.read_csv(input_name, sep='\\t', index_col=0)\n",
    "df_ori.shape"
   ]
  },
  {
   "cell_type": "code",
   "execution_count": 4,
   "metadata": {
    "scrolled": false
   },
   "outputs": [
    {
     "data": {
      "text/html": [
       "<div>\n",
       "<style scoped>\n",
       "    .dataframe tbody tr th:only-of-type {\n",
       "        vertical-align: middle;\n",
       "    }\n",
       "\n",
       "    .dataframe tbody tr th {\n",
       "        vertical-align: top;\n",
       "    }\n",
       "\n",
       "    .dataframe thead th {\n",
       "        text-align: right;\n",
       "    }\n",
       "</style>\n",
       "<table border=\"1\" class=\"dataframe\">\n",
       "  <thead>\n",
       "    <tr style=\"text-align: right;\">\n",
       "      <th></th>\n",
       "      <th>33070_chrI_33070_A_T</th>\n",
       "      <th>33147_chrI_33147_G_T</th>\n",
       "      <th>33152_chrI_33152_T_C</th>\n",
       "      <th>33200_chrI_33200_C_T</th>\n",
       "      <th>33293_chrI_33293_A_T</th>\n",
       "      <th>33328_chrI_33328_C_A</th>\n",
       "      <th>33348_chrI_33348_G_C</th>\n",
       "      <th>33403_chrI_33403_C_T</th>\n",
       "      <th>33502_chrI_33502_A_G</th>\n",
       "      <th>33548_chrI_33548_A_C</th>\n",
       "      <th>...</th>\n",
       "      <th>12048853_chrXVI_925593_G_C</th>\n",
       "      <th>12049199_chrXVI_925939_T_C</th>\n",
       "      <th>12049441_chrXVI_926181_C_T</th>\n",
       "      <th>12050613_chrXVI_927353_T_G</th>\n",
       "      <th>12051167_chrXVI_927907_A_C</th>\n",
       "      <th>12051240_chrXVI_927980_A_G</th>\n",
       "      <th>12051367_chrXVI_928107_C_T</th>\n",
       "      <th>12052782_chrXVI_929522_C_T</th>\n",
       "      <th>12052988_chrXVI_929728_A_G</th>\n",
       "      <th>12053130_chrXVI_929870_C_T</th>\n",
       "    </tr>\n",
       "    <tr>\n",
       "      <th>SAMID</th>\n",
       "      <th></th>\n",
       "      <th></th>\n",
       "      <th></th>\n",
       "      <th></th>\n",
       "      <th></th>\n",
       "      <th></th>\n",
       "      <th></th>\n",
       "      <th></th>\n",
       "      <th></th>\n",
       "      <th></th>\n",
       "      <th></th>\n",
       "      <th></th>\n",
       "      <th></th>\n",
       "      <th></th>\n",
       "      <th></th>\n",
       "      <th></th>\n",
       "      <th></th>\n",
       "      <th></th>\n",
       "      <th></th>\n",
       "      <th></th>\n",
       "      <th></th>\n",
       "    </tr>\n",
       "  </thead>\n",
       "  <tbody>\n",
       "    <tr>\n",
       "      <th>01_01</th>\n",
       "      <td>1</td>\n",
       "      <td>1</td>\n",
       "      <td>1</td>\n",
       "      <td>1</td>\n",
       "      <td>1</td>\n",
       "      <td>1</td>\n",
       "      <td>1</td>\n",
       "      <td>1</td>\n",
       "      <td>1</td>\n",
       "      <td>1</td>\n",
       "      <td>...</td>\n",
       "      <td>-1</td>\n",
       "      <td>-1</td>\n",
       "      <td>-1</td>\n",
       "      <td>-1</td>\n",
       "      <td>-1</td>\n",
       "      <td>-1</td>\n",
       "      <td>-1</td>\n",
       "      <td>-1</td>\n",
       "      <td>-1</td>\n",
       "      <td>-1</td>\n",
       "    </tr>\n",
       "    <tr>\n",
       "      <th>01_02</th>\n",
       "      <td>1</td>\n",
       "      <td>1</td>\n",
       "      <td>1</td>\n",
       "      <td>1</td>\n",
       "      <td>1</td>\n",
       "      <td>1</td>\n",
       "      <td>1</td>\n",
       "      <td>1</td>\n",
       "      <td>1</td>\n",
       "      <td>1</td>\n",
       "      <td>...</td>\n",
       "      <td>-1</td>\n",
       "      <td>-1</td>\n",
       "      <td>-1</td>\n",
       "      <td>-1</td>\n",
       "      <td>-1</td>\n",
       "      <td>-1</td>\n",
       "      <td>-1</td>\n",
       "      <td>-1</td>\n",
       "      <td>-1</td>\n",
       "      <td>-1</td>\n",
       "    </tr>\n",
       "    <tr>\n",
       "      <th>01_03</th>\n",
       "      <td>-1</td>\n",
       "      <td>-1</td>\n",
       "      <td>-1</td>\n",
       "      <td>-1</td>\n",
       "      <td>-1</td>\n",
       "      <td>-1</td>\n",
       "      <td>-1</td>\n",
       "      <td>-1</td>\n",
       "      <td>-1</td>\n",
       "      <td>-1</td>\n",
       "      <td>...</td>\n",
       "      <td>1</td>\n",
       "      <td>1</td>\n",
       "      <td>1</td>\n",
       "      <td>1</td>\n",
       "      <td>1</td>\n",
       "      <td>1</td>\n",
       "      <td>1</td>\n",
       "      <td>1</td>\n",
       "      <td>1</td>\n",
       "      <td>1</td>\n",
       "    </tr>\n",
       "    <tr>\n",
       "      <th>01_04</th>\n",
       "      <td>1</td>\n",
       "      <td>1</td>\n",
       "      <td>1</td>\n",
       "      <td>1</td>\n",
       "      <td>1</td>\n",
       "      <td>1</td>\n",
       "      <td>1</td>\n",
       "      <td>1</td>\n",
       "      <td>1</td>\n",
       "      <td>1</td>\n",
       "      <td>...</td>\n",
       "      <td>1</td>\n",
       "      <td>1</td>\n",
       "      <td>1</td>\n",
       "      <td>1</td>\n",
       "      <td>1</td>\n",
       "      <td>1</td>\n",
       "      <td>1</td>\n",
       "      <td>1</td>\n",
       "      <td>1</td>\n",
       "      <td>1</td>\n",
       "    </tr>\n",
       "    <tr>\n",
       "      <th>01_06</th>\n",
       "      <td>-1</td>\n",
       "      <td>-1</td>\n",
       "      <td>-1</td>\n",
       "      <td>-1</td>\n",
       "      <td>-1</td>\n",
       "      <td>-1</td>\n",
       "      <td>-1</td>\n",
       "      <td>-1</td>\n",
       "      <td>-1</td>\n",
       "      <td>-1</td>\n",
       "      <td>...</td>\n",
       "      <td>-1</td>\n",
       "      <td>-1</td>\n",
       "      <td>-1</td>\n",
       "      <td>-1</td>\n",
       "      <td>-1</td>\n",
       "      <td>-1</td>\n",
       "      <td>-1</td>\n",
       "      <td>-1</td>\n",
       "      <td>-1</td>\n",
       "      <td>-1</td>\n",
       "    </tr>\n",
       "  </tbody>\n",
       "</table>\n",
       "<p>5 rows × 28220 columns</p>\n",
       "</div>"
      ],
      "text/plain": [
       "       33070_chrI_33070_A_T  33147_chrI_33147_G_T  33152_chrI_33152_T_C  \\\n",
       "SAMID                                                                     \n",
       "01_01                     1                     1                     1   \n",
       "01_02                     1                     1                     1   \n",
       "01_03                    -1                    -1                    -1   \n",
       "01_04                     1                     1                     1   \n",
       "01_06                    -1                    -1                    -1   \n",
       "\n",
       "       33200_chrI_33200_C_T  33293_chrI_33293_A_T  33328_chrI_33328_C_A  \\\n",
       "SAMID                                                                     \n",
       "01_01                     1                     1                     1   \n",
       "01_02                     1                     1                     1   \n",
       "01_03                    -1                    -1                    -1   \n",
       "01_04                     1                     1                     1   \n",
       "01_06                    -1                    -1                    -1   \n",
       "\n",
       "       33348_chrI_33348_G_C  33403_chrI_33403_C_T  33502_chrI_33502_A_G  \\\n",
       "SAMID                                                                     \n",
       "01_01                     1                     1                     1   \n",
       "01_02                     1                     1                     1   \n",
       "01_03                    -1                    -1                    -1   \n",
       "01_04                     1                     1                     1   \n",
       "01_06                    -1                    -1                    -1   \n",
       "\n",
       "       33548_chrI_33548_A_C  ...  12048853_chrXVI_925593_G_C  \\\n",
       "SAMID                        ...                               \n",
       "01_01                     1  ...                          -1   \n",
       "01_02                     1  ...                          -1   \n",
       "01_03                    -1  ...                           1   \n",
       "01_04                     1  ...                           1   \n",
       "01_06                    -1  ...                          -1   \n",
       "\n",
       "       12049199_chrXVI_925939_T_C  12049441_chrXVI_926181_C_T  \\\n",
       "SAMID                                                           \n",
       "01_01                          -1                          -1   \n",
       "01_02                          -1                          -1   \n",
       "01_03                           1                           1   \n",
       "01_04                           1                           1   \n",
       "01_06                          -1                          -1   \n",
       "\n",
       "       12050613_chrXVI_927353_T_G  12051167_chrXVI_927907_A_C  \\\n",
       "SAMID                                                           \n",
       "01_01                          -1                          -1   \n",
       "01_02                          -1                          -1   \n",
       "01_03                           1                           1   \n",
       "01_04                           1                           1   \n",
       "01_06                          -1                          -1   \n",
       "\n",
       "       12051240_chrXVI_927980_A_G  12051367_chrXVI_928107_C_T  \\\n",
       "SAMID                                                           \n",
       "01_01                          -1                          -1   \n",
       "01_02                          -1                          -1   \n",
       "01_03                           1                           1   \n",
       "01_04                           1                           1   \n",
       "01_06                          -1                          -1   \n",
       "\n",
       "       12052782_chrXVI_929522_C_T  12052988_chrXVI_929728_A_G  \\\n",
       "SAMID                                                           \n",
       "01_01                          -1                          -1   \n",
       "01_02                          -1                          -1   \n",
       "01_03                           1                           1   \n",
       "01_04                           1                           1   \n",
       "01_06                          -1                          -1   \n",
       "\n",
       "       12053130_chrXVI_929870_C_T  \n",
       "SAMID                              \n",
       "01_01                          -1  \n",
       "01_02                          -1  \n",
       "01_03                           1  \n",
       "01_04                           1  \n",
       "01_06                          -1  \n",
       "\n",
       "[5 rows x 28220 columns]"
      ]
     },
     "execution_count": 4,
     "metadata": {},
     "output_type": "execute_result"
    }
   ],
   "source": [
    "df_ori.head()"
   ]
  },
  {
   "cell_type": "code",
   "execution_count": 5,
   "metadata": {},
   "outputs": [],
   "source": [
    "# # take a small part to test code\n",
    "# df_ori = df_ori.iloc[0:1000:, 0:5000]"
   ]
  },
  {
   "cell_type": "markdown",
   "metadata": {},
   "source": [
    "## Sample visualization"
   ]
  },
  {
   "cell_type": "code",
   "execution_count": 6,
   "metadata": {},
   "outputs": [],
   "source": [
    "# the first sample in dataset\n",
    "vis_sample=df_ori.iloc[0].values[:28220].reshape(166,170)"
   ]
  },
  {
   "cell_type": "code",
   "execution_count": 7,
   "metadata": {},
   "outputs": [
    {
     "data": {
      "image/png": "[encoded data removed]",
      "text/plain": [
       "<Figure size 720x720 with 1 Axes>"
      ]
     },
     "metadata": {},
     "output_type": "display_data"
    }
   ],
   "source": [
    "# draw first train sample, which was reshaped to (50,100)\n",
    "plt.figure(figsize=(10, 10))\n",
    "ax = plt.gca()\n",
    "cmap = mpl.colors.ListedColormap([ 'blue', 'red'])\n",
    "im = ax.imshow(vis_sample, cmap=cmap)\n",
    "# create an axes on the right side of ax. The width of cax will be 5%\n",
    "# of ax and the padding between cax and ax will be fixed at 0.05 inch.\n",
    "# divider = make_axes_locatable(ax)\n",
    "# cax = divider.append_axes(\"right\", size=\"5%\", pad=0.05)\n",
    "plt.tick_params(labelsize=30)\n",
    "plt.rcParams[\"font.family\"] = ['Times New Roman'] + plt.rcParams['font.serif']\n",
    "# plt.colorbar(im, cax=cax)\n",
    "plt.show()"
   ]
  },
  {
   "cell_type": "markdown",
   "metadata": {},
   "source": [
    "## Preprocessing"
   ]
  },
  {
   "cell_type": "code",
   "execution_count": 8,
   "metadata": {},
   "outputs": [],
   "source": [
    "# replace -1 with 0, because OneHot can't encode negative number \n",
    "df_ori[df_ori == -1] = 0"
   ]
  },
  {
   "cell_type": "code",
   "execution_count": 9,
   "metadata": {},
   "outputs": [
    {
     "data": {
      "text/plain": [
       "(4390, 28220, 2)"
      ]
     },
     "execution_count": 9,
     "metadata": {},
     "output_type": "execute_result"
    }
   ],
   "source": [
    "# one hot encode\n",
    "df_onehot = to_categorical(df_ori)\n",
    "df_onehot.shape"
   ]
  },
  {
   "cell_type": "code",
   "execution_count": 10,
   "metadata": {},
   "outputs": [
    {
     "data": {
      "text/plain": [
       "((3512, 28220, 2), (878, 28220, 2))"
      ]
     },
     "execution_count": 10,
     "metadata": {},
     "output_type": "execute_result"
    }
   ],
   "source": [
    "# split df to train and test\n",
    "train_X, test_X = train_test_split(df_onehot, test_size=0.2)\n",
    "\n",
    "train_X.shape, test_X.shape"
   ]
  },
  {
   "cell_type": "code",
   "execution_count": 11,
   "metadata": {},
   "outputs": [
    {
     "data": {
      "text/plain": [
       "((2809, 28220, 2), (703, 28220, 2))"
      ]
     },
     "execution_count": 11,
     "metadata": {},
     "output_type": "execute_result"
    }
   ],
   "source": [
    "# split df to train and valid\n",
    "train_X, valid_X = train_test_split(train_X, test_size=0.2)\n",
    "\n",
    "train_X.shape, valid_X.shape"
   ]
  },
  {
   "cell_type": "markdown",
   "metadata": {},
   "source": [
    "# Method"
   ]
  },
  {
   "cell_type": "markdown",
   "metadata": {},
   "source": [
    "## Build model"
   ]
  },
  {
   "cell_type": "code",
   "execution_count": 12,
   "metadata": {},
   "outputs": [],
   "source": [
    "# hyperparameters\n",
    "missing_perc = 0.1\n",
    "\n",
    "# training\n",
    "batch_size = 32\n",
    "lr = 1e-3\n",
    "epochs = 20\n",
    "\n",
    "# conv1D\n",
    "feature_size = train_X.shape[1]\n",
    "inChannel = train_X.shape[2]\n",
    "kr = 1e-4\n",
    "drop_prec = 0.25"
   ]
  },
  {
   "cell_type": "code",
   "execution_count": 13,
   "metadata": {},
   "outputs": [
    {
     "name": "stderr",
     "output_type": "stream",
     "text": [
      "WARNING: Logging before flag parsing goes to stderr.\n",
      "W0730 21:26:10.189944 4512404928 deprecation.py:506] From /usr/local/lib/python3.6/site-packages/tensorflow/python/ops/init_ops.py:1251: calling VarianceScaling.__init__ (from tensorflow.python.ops.init_ops) with dtype is deprecated and will be removed in a future version.\n",
      "Instructions for updating:\n",
      "Call initializer instance with the dtype argument instead of passing it to the constructor\n"
     ]
    },
    {
     "name": "stdout",
     "output_type": "stream",
     "text": [
      "Model: \"sequential\"\n",
      "_________________________________________________________________\n",
      "Layer (type)                 Output Shape              Param #   \n",
      "=================================================================\n",
      "conv1d (Conv1D)              (None, 28220, 32)         352       \n",
      "_________________________________________________________________\n",
      "max_pooling1d (MaxPooling1D) (None, 14110, 32)         0         \n",
      "_________________________________________________________________\n",
      "dropout (Dropout)            (None, 14110, 32)         0         \n",
      "_________________________________________________________________\n",
      "conv1d_1 (Conv1D)            (None, 14110, 64)         10304     \n",
      "_________________________________________________________________\n",
      "max_pooling1d_1 (MaxPooling1 (None, 7055, 64)          0         \n",
      "_________________________________________________________________\n",
      "dropout_1 (Dropout)          (None, 7055, 64)          0         \n",
      "_________________________________________________________________\n",
      "conv1d_2 (Conv1D)            (None, 7055, 128)         41088     \n",
      "_________________________________________________________________\n",
      "conv1d_3 (Conv1D)            (None, 7055, 64)          41024     \n",
      "_________________________________________________________________\n",
      "up_sampling1d (UpSampling1D) (None, 14110, 64)         0         \n",
      "_________________________________________________________________\n",
      "dropout_2 (Dropout)          (None, 14110, 64)         0         \n",
      "_________________________________________________________________\n",
      "conv1d_4 (Conv1D)            (None, 14110, 32)         10272     \n",
      "_________________________________________________________________\n",
      "up_sampling1d_1 (UpSampling1 (None, 28220, 32)         0         \n",
      "_________________________________________________________________\n",
      "dropout_3 (Dropout)          (None, 28220, 32)         0         \n",
      "_________________________________________________________________\n",
      "conv1d_5 (Conv1D)            (None, 28220, 2)          322       \n",
      "=================================================================\n",
      "Total params: 103,362\n",
      "Trainable params: 103,362\n",
      "Non-trainable params: 0\n",
      "_________________________________________________________________\n"
     ]
    }
   ],
   "source": [
    "SCDA = Sequential()\n",
    "# encoder\n",
    "SCDA.add(Conv1D(32, 5, padding='same',activation='relu',kernel_regularizer=l1(kr),input_shape=(feature_size, inChannel)))\n",
    "SCDA.add(MaxPooling1D(pool_size=2))\n",
    "SCDA.add(Dropout(drop_prec))\n",
    "          \n",
    "SCDA.add(Conv1D(64, 5, padding='same', activation='relu', kernel_regularizer=l1(kr))) \n",
    "SCDA.add(MaxPooling1D(pool_size=2)) \n",
    "SCDA.add(Dropout(drop_prec))\n",
    "\n",
    "# bridge\n",
    "SCDA.add(Conv1D(128, 5, padding='same', activation='relu', kernel_regularizer=l1(kr)))\n",
    "\n",
    "# decoder\n",
    "SCDA.add(Conv1D(64, 5, padding='same', activation='relu', kernel_regularizer=l1(kr))) \n",
    "SCDA.add(UpSampling1D(2)) \n",
    "SCDA.add(Dropout(drop_prec))\n",
    "          \n",
    "SCDA.add(Conv1D(32, 5, padding='same', activation='relu', kernel_regularizer=l1(kr))) \n",
    "SCDA.add(UpSampling1D(2))\n",
    "SCDA.add(Dropout(drop_prec))\n",
    "\n",
    "SCDA.add(Conv1D(inChannel, 5, activation='softmax', padding='same',kernel_regularizer=l1(kr))) \n",
    "\n",
    "\n",
    "# compile\n",
    "SCDA.compile(loss='categorical_crossentropy', \n",
    "                    optimizer='adam',\n",
    "                    metrics=['accuracy'])\n",
    "\n",
    "SCDA.summary()"
   ]
  },
  {
   "cell_type": "markdown",
   "metadata": {},
   "source": [
    "## Generate data "
   ]
  },
  {
   "cell_type": "code",
   "execution_count": 14,
   "metadata": {},
   "outputs": [],
   "source": [
    "# Generates data for denoising autoencoder.\n",
    "class DataGenerator(keras.utils.Sequence):\n",
    "    def __init__(self, batch_size, x_dataset, missing_perc=0.1, shuffle=True):\n",
    "        self.batch_size = batch_size\n",
    "        self.x = x_dataset\n",
    "        self.missing_perc = missing_perc\n",
    "        self.shuffle = shuffle\n",
    "        # triggered once at the very beginning as well as at the end of each epoch.\n",
    "        self.on_epoch_end()\n",
    "\n",
    "    def __len__(self):\n",
    "        # Denote the number of batches per epoch\n",
    "        return int(np.floor(self.x.shape[0] / self.batch_size))\n",
    "\n",
    "    def __getitem__(self, index):\n",
    "        # Generates one batch of data\n",
    "        indexes = self.indexes[index * self.batch_size:(\n",
    "            index + 1) * self.batch_size]\n",
    "        self.x_missing = self.x[indexes].copy()\n",
    "\n",
    "        # Generates missing genotypes\n",
    "        # different missing loci for each individuals\n",
    "        for i in range(self.x_missing.shape[0]):\n",
    "            missing_size = int(self.missing_perc * self.x_missing.shape[1])\n",
    "            missing_index = np.random.randint(\n",
    "                self.x_missing.shape[1], size=missing_size)\n",
    "            # missing loci are encoded as [0, 0]\n",
    "            self.x_missing[i, missing_index, :] = 0\n",
    "\n",
    "        return self.x_missing, self.x[indexes]\n",
    "\n",
    "    def on_epoch_end(self):\n",
    "        # Update indexes after each epoch\n",
    "        self.indexes = np.arange(self.x.shape[0])\n",
    "        if self.shuffle == True:\n",
    "            np.random.shuffle(self.indexes)"
   ]
  },
  {
   "cell_type": "code",
   "execution_count": 15,
   "metadata": {},
   "outputs": [],
   "source": [
    "train_generator = DataGenerator(\n",
    "    batch_size=batch_size, x_dataset=train_X, missing_perc=missing_perc)\n",
    "valid_generator = DataGenerator(\n",
    "    batch_size=batch_size, x_dataset=valid_X, missing_perc=missing_perc)"
   ]
  },
  {
   "cell_type": "markdown",
   "metadata": {},
   "source": [
    "## Training"
   ]
  },
  {
   "cell_type": "code",
   "execution_count": 16,
   "metadata": {},
   "outputs": [
    {
     "name": "stderr",
     "output_type": "stream",
     "text": [
      "W0730 21:26:16.914561 4512404928 callbacks.py:875] `period` argument is deprecated. Please use `save_freq` to specify the frequency in number of samples seen.\n"
     ]
    }
   ],
   "source": [
    "# early stopping call back with val_loss monitor\n",
    "EarlyStopping = keras.callbacks.EarlyStopping(\n",
    "    monitor='val_loss',\n",
    "    min_delta=0,\n",
    "    patience=10,\n",
    "    verbose=0,\n",
    "    mode='auto',\n",
    "    baseline=None,\n",
    "    restore_best_weights=True)\n",
    "\n",
    "# model checkpoint call back with val_acc monitor\n",
    "ModelCheckpoint = keras.callbacks.ModelCheckpoint(\n",
    "    'models/SCDA_checkpoint.{epoch:02d}-{val_acc:.4f}.h5',\n",
    "    monitor='val_acc',\n",
    "    verbose=0,\n",
    "    save_best_only=True,\n",
    "    save_weights_only=False,\n",
    "    mode='auto',\n",
    "    period=1)"
   ]
  },
  {
   "cell_type": "code",
   "execution_count": 17,
   "metadata": {
    "scrolled": false
   },
   "outputs": [
    {
     "name": "stdout",
     "output_type": "stream",
     "text": [
      "Epoch 1/20\n"
     ]
    },
    {
     "name": "stderr",
     "output_type": "stream",
     "text": [
      "W0730 21:26:20.901879 4512404928 deprecation.py:323] From /usr/local/lib/python3.6/site-packages/tensorflow/python/ops/math_grad.py:1250: add_dispatch_support.<locals>.wrapper (from tensorflow.python.ops.array_ops) is deprecated and will be removed in a future version.\n",
      "Instructions for updating:\n",
      "Use tf.where in 2.0, which has the same broadcast rule as np.where\n"
     ]
    },
    {
     "name": "stdout",
     "output_type": "stream",
     "text": [
      "87/87 [==============================] - 402s 5s/step - loss: 0.3588 - acc: 0.9848 - val_loss: 0.2096 - val_acc: 0.9993\n",
      "Epoch 2/20\n",
      "87/87 [==============================] - 237s 3s/step - loss: 0.1569 - acc: 0.9982 - val_loss: 0.1135 - val_acc: 0.9993\n",
      "Epoch 3/20\n",
      "87/87 [==============================] - 236s 3s/step - loss: 0.0902 - acc: 0.9982 - val_loss: 0.0685 - val_acc: 0.9993\n",
      "Epoch 4/20\n",
      "87/87 [==============================] - 237s 3s/step - loss: 0.0573 - acc: 0.9982 - val_loss: 0.0454 - val_acc: 0.9993\n",
      "Epoch 5/20\n",
      "87/87 [==============================] - 236s 3s/step - loss: 0.0401 - acc: 0.9982 - val_loss: 0.0329 - val_acc: 0.9993\n",
      "Epoch 6/20\n",
      "87/87 [==============================] - 235s 3s/step - loss: 0.0304 - acc: 0.9982 - val_loss: 0.0256 - val_acc: 0.9993\n",
      "Epoch 7/20\n",
      "87/87 [==============================] - 235s 3s/step - loss: 0.0247 - acc: 0.9982 - val_loss: 0.0212 - val_acc: 0.9993\n",
      "Epoch 8/20\n",
      "87/87 [==============================] - 235s 3s/step - loss: 0.0211 - acc: 0.9983 - val_loss: 0.0183 - val_acc: 0.9993\n",
      "Epoch 9/20\n",
      "87/87 [==============================] - 235s 3s/step - loss: 0.0188 - acc: 0.9983 - val_loss: 0.0164 - val_acc: 0.9994\n",
      "Epoch 10/20\n",
      "87/87 [==============================] - 235s 3s/step - loss: 0.0172 - acc: 0.9983 - val_loss: 0.0151 - val_acc: 0.9993\n",
      "Epoch 11/20\n",
      "87/87 [==============================] - 235s 3s/step - loss: 0.0161 - acc: 0.9983 - val_loss: 0.0142 - val_acc: 0.9994\n",
      "Epoch 12/20\n",
      "87/87 [==============================] - 235s 3s/step - loss: 0.0153 - acc: 0.9984 - val_loss: 0.0135 - val_acc: 0.9994\n",
      "Epoch 13/20\n",
      "87/87 [==============================] - 235s 3s/step - loss: 0.0147 - acc: 0.9984 - val_loss: 0.0129 - val_acc: 0.9994\n",
      "Epoch 14/20\n",
      "87/87 [==============================] - 235s 3s/step - loss: 0.0142 - acc: 0.9984 - val_loss: 0.0125 - val_acc: 0.9994\n",
      "Epoch 15/20\n",
      "87/87 [==============================] - 237s 3s/step - loss: 0.0138 - acc: 0.9985 - val_loss: 0.0121 - val_acc: 0.9995\n",
      "Epoch 16/20\n",
      "87/87 [==============================] - 237s 3s/step - loss: 0.0134 - acc: 0.9985 - val_loss: 0.0118 - val_acc: 0.9995\n",
      "Epoch 17/20\n",
      "87/87 [==============================] - 237s 3s/step - loss: 0.0131 - acc: 0.9985 - val_loss: 0.0115 - val_acc: 0.9995\n",
      "Epoch 18/20\n",
      "87/87 [==============================] - 238s 3s/step - loss: 0.0128 - acc: 0.9985 - val_loss: 0.0112 - val_acc: 0.9995\n",
      "Epoch 19/20\n",
      "87/87 [==============================] - 237s 3s/step - loss: 0.0125 - acc: 0.9985 - val_loss: 0.0109 - val_acc: 0.9995\n",
      "Epoch 20/20\n",
      "87/87 [==============================] - 237s 3s/step - loss: 0.0123 - acc: 0.9986 - val_loss: 0.0107 - val_acc: 0.9995\n"
     ]
    }
   ],
   "source": [
    "SCDA_train = SCDA.fit_generator(\n",
    "    generator=train_generator,\n",
    "    validation_data=valid_generator,\n",
    "    epochs=epochs,\n",
    "    verbose=1,\n",
    "#     callbacks=[EarlyStopping, ModelCheckpoint]\n",
    ")"
   ]
  },
  {
   "cell_type": "markdown",
   "metadata": {},
   "source": [
    "## Plot"
   ]
  },
  {
   "cell_type": "code",
   "execution_count": 18,
   "metadata": {},
   "outputs": [
    {
     "data": {
      "image/png": "[encoded data removed]",
      "text/plain": [
       "<Figure size 432x288 with 1 Axes>"
      ]
     },
     "metadata": {},
     "output_type": "display_data"
    }
   ],
   "source": [
    "# plot loss curve on validation data\n",
    "loss = SCDA_train.history['loss']\n",
    "val_loss = SCDA_train.history['val_loss']\n",
    "\n",
    "plt.figure()\n",
    "plt.plot(range(len(loss)), loss, 'bo', label='Training loss')\n",
    "plt.plot(range(len(val_loss)), val_loss, 'b', label='Validation loss')\n",
    "plt.title('Training and validation loss')\n",
    "plt.legend()\n",
    "plt.show()"
   ]
  },
  {
   "cell_type": "code",
   "execution_count": 19,
   "metadata": {},
   "outputs": [
    {
     "data": {
      "image/png": "[encoded data removed]",
      "text/plain": [
       "<Figure size 432x288 with 1 Axes>"
      ]
     },
     "metadata": {},
     "output_type": "display_data"
    }
   ],
   "source": [
    "# plot accuracy curve on validation data\n",
    "acc = SCDA_train.history['acc']\n",
    "val_acc = SCDA_train.history['val_acc']\n",
    "plt.figure()\n",
    "plt.plot(range(len(acc)), acc, 'bo', label='Training acc')\n",
    "plt.plot(range(len(val_acc)), val_acc, 'b', label='Validation acc')\n",
    "plt.title('Training and validation acc')\n",
    "plt.legend()\n",
    "plt.show()"
   ]
  },
  {
   "cell_type": "markdown",
   "metadata": {},
   "source": [
    "# Prediction on test data"
   ]
  },
  {
   "cell_type": "code",
   "execution_count": 20,
   "metadata": {},
   "outputs": [],
   "source": [
    "test_X_missing = test_X.copy()"
   ]
  },
  {
   "cell_type": "code",
   "execution_count": 21,
   "metadata": {},
   "outputs": [],
   "source": [
    "accuracy=[]\n",
    "for i in range(test_X_missing.shape[0]):\n",
    "    # Generates missing genotypes\n",
    "    missing_size= int(missing_perc*test_X_missing.shape[1])\n",
    "    missing_index = np.random.randint(test_X_missing.shape[1], size=missing_size)\n",
    "    test_X_missing[i, missing_index, :] = 0\n",
    "    \n",
    "    # predict\n",
    "    predict_onehot = SCDA.predict(test_X_missing[i:i+1,:,:])\n",
    "    # only care the missing position\n",
    "    predict_missing_onehot = predict_onehot[0:1, missing_index, :]\n",
    "    predict_missing=np.argmax(predict_missing_onehot, axis=2)\n",
    "    \n",
    "    # label\n",
    "    label_missing_onehot = test_X[i:i+1, missing_index, :]\n",
    "    label_missing=np.argmax(label_missing_onehot, axis=2)\n",
    "\n",
    "    # accuracy\n",
    "    correct_prediction = np.equal(predict_missing, label_missing)\n",
    "    accuracy.append(np.mean(correct_prediction))"
   ]
  },
  {
   "cell_type": "code",
   "execution_count": 22,
   "metadata": {},
   "outputs": [
    {
     "name": "stdout",
     "output_type": "stream",
     "text": [
      "The average accuracy on test data is 0.9979287375954308\n"
     ]
    }
   ],
   "source": [
    "avg_acc=np.mean(accuracy)\n",
    "print('The average accuracy on test data is {}'.format(avg_acc))"
   ]
  },
  {
   "cell_type": "code",
   "execution_count": null,
   "metadata": {},
   "outputs": [],
   "source": []
  }
 ],
 "metadata": {
  "kernelspec": {
   "display_name": "Python 3",
   "language": "python",
   "name": "python3"
  },
  "language_info": {
   "codemirror_mode": {
    "name": "ipython",
    "version": 3
   },
   "file_extension": ".py",
   "mimetype": "text/x-python",
   "name": "python",
   "nbconvert_exporter": "python",
   "pygments_lexer": "ipython3",
   "version": "3.6.5"
  },
  "toc": {
   "base_numbering": 1,
   "nav_menu": {},
   "number_sections": true,
   "sideBar": true,
   "skip_h1_title": false,
   "title_cell": "Table of Contents",
   "title_sidebar": "Contents",
   "toc_cell": true,
   "toc_position": {},
   "toc_section_display": true,
   "toc_window_display": false
  },
  "varInspector": {
   "cols": {
    "lenName": 16,
    "lenType": 16,
    "lenVar": 40
   },
   "kernels_config": {
    "python": {
     "delete_cmd_postfix": "",
     "delete_cmd_prefix": "del ",
     "library": "var_list.py",
     "varRefreshCmd": "print(var_dic_list())"
    },
    "r": {
     "delete_cmd_postfix": ") ",
     "delete_cmd_prefix": "rm(",
     "library": "var_list.r",
     "varRefreshCmd": "cat(var_dic_list()) "
    }
   },
   "types_to_exclude": [
    "module",
    "function",
    "builtin_function_or_method",
    "instance",
    "_Feature"
   ],
   "window_display": false
  }
 },
 "nbformat": 4,
 "nbformat_minor": 2
}
